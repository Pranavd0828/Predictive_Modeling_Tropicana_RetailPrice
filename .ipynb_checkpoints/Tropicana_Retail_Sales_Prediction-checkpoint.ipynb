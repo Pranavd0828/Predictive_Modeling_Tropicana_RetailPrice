{
 "cells": [
  {
   "cell_type": "markdown",
   "metadata": {},
   "source": [
    "### Import Libraries"
   ]
  },
  {
   "cell_type": "code",
   "execution_count": 1,
   "metadata": {},
   "outputs": [],
   "source": [
    "import pandas as pd\n",
    "import numpy as np\n",
    "import matplotlib.pylab as plt\n",
    "import seaborn as sb\n",
    "import warnings\n",
    "import datetime as dt\n",
    "import calendar\n",
    "import matplotlib.ticker as ticker\n",
    "import matplotlib.cm as cm\n",
    "import matplotlib as mpl\n",
    "from matplotlib.gridspec import GridSpec\n",
    "import statsmodels.api as sm\n",
    "\n",
    "import matplotlib.pyplot as plt\n",
    "from sklearn.preprocessing import LabelEncoder\n",
    "from sklearn.preprocessing import OneHotEncoder\n",
    "from sklearn.linear_model import LinearRegression\n",
    "from sklearn.model_selection import train_test_split\n",
    "from sklearn.preprocessing import MinMaxScaler, StandardScaler\n",
    "from sklearn.model_selection import train_test_split\n",
    "\n",
    "\n",
    "warnings.filterwarnings(\"ignore\")\n",
    "%matplotlib inline"
   ]
  },
  {
   "cell_type": "markdown",
   "metadata": {},
   "source": [
    "### Import data"
   ]
  },
  {
   "cell_type": "code",
   "execution_count": 2,
   "metadata": {},
   "outputs": [
    {
     "data": {
      "text/html": [
       "<div>\n",
       "<style scoped>\n",
       "    .dataframe tbody tr th:only-of-type {\n",
       "        vertical-align: middle;\n",
       "    }\n",
       "\n",
       "    .dataframe tbody tr th {\n",
       "        vertical-align: top;\n",
       "    }\n",
       "\n",
       "    .dataframe thead th {\n",
       "        text-align: right;\n",
       "    }\n",
       "</style>\n",
       "<table border=\"1\" class=\"dataframe\">\n",
       "  <thead>\n",
       "    <tr style=\"text-align: right;\">\n",
       "      <th></th>\n",
       "      <th>Store</th>\n",
       "      <th>Week</th>\n",
       "      <th>Quant</th>\n",
       "      <th>Price</th>\n",
       "      <th>Deal</th>\n",
       "    </tr>\n",
       "  </thead>\n",
       "  <tbody>\n",
       "    <tr>\n",
       "      <th>0</th>\n",
       "      <td>2</td>\n",
       "      <td>1</td>\n",
       "      <td>14016</td>\n",
       "      <td>4.09</td>\n",
       "      <td>1</td>\n",
       "    </tr>\n",
       "    <tr>\n",
       "      <th>1</th>\n",
       "      <td>2</td>\n",
       "      <td>2</td>\n",
       "      <td>21504</td>\n",
       "      <td>3.59</td>\n",
       "      <td>1</td>\n",
       "    </tr>\n",
       "    <tr>\n",
       "      <th>2</th>\n",
       "      <td>2</td>\n",
       "      <td>3</td>\n",
       "      <td>33024</td>\n",
       "      <td>3.14</td>\n",
       "      <td>1</td>\n",
       "    </tr>\n",
       "    <tr>\n",
       "      <th>3</th>\n",
       "      <td>2</td>\n",
       "      <td>4</td>\n",
       "      <td>8896</td>\n",
       "      <td>3.64</td>\n",
       "      <td>1</td>\n",
       "    </tr>\n",
       "    <tr>\n",
       "      <th>4</th>\n",
       "      <td>2</td>\n",
       "      <td>5</td>\n",
       "      <td>12736</td>\n",
       "      <td>4.09</td>\n",
       "      <td>0</td>\n",
       "    </tr>\n",
       "  </tbody>\n",
       "</table>\n",
       "</div>"
      ],
      "text/plain": [
       "   Store  Week  Quant  Price  Deal\n",
       "0      2     1  14016   4.09     1\n",
       "1      2     2  21504   3.59     1\n",
       "2      2     3  33024   3.14     1\n",
       "3      2     4   8896   3.64     1\n",
       "4      2     5  12736   4.09     0"
      ]
     },
     "execution_count": 2,
     "metadata": {},
     "output_type": "execute_result"
    }
   ],
   "source": [
    "Tropicana_DF = pd.read_csv(\"tropic.csv\")\n",
    "Tropicana_DF.head()"
   ]
  },
  {
   "cell_type": "code",
   "execution_count": 3,
   "metadata": {},
   "outputs": [],
   "source": [
    "Tropicana_DF[\"Log_Quant\"] = np.log(Tropicana_DF[\"Quant\"])"
   ]
  },
  {
   "cell_type": "code",
   "execution_count": 4,
   "metadata": {},
   "outputs": [
    {
     "data": {
      "text/html": [
       "<div>\n",
       "<style scoped>\n",
       "    .dataframe tbody tr th:only-of-type {\n",
       "        vertical-align: middle;\n",
       "    }\n",
       "\n",
       "    .dataframe tbody tr th {\n",
       "        vertical-align: top;\n",
       "    }\n",
       "\n",
       "    .dataframe thead th {\n",
       "        text-align: right;\n",
       "    }\n",
       "</style>\n",
       "<table border=\"1\" class=\"dataframe\">\n",
       "  <thead>\n",
       "    <tr style=\"text-align: right;\">\n",
       "      <th></th>\n",
       "      <th>Store</th>\n",
       "      <th>Week</th>\n",
       "      <th>Quant</th>\n",
       "      <th>Price</th>\n",
       "      <th>Deal</th>\n",
       "      <th>Log_Quant</th>\n",
       "    </tr>\n",
       "  </thead>\n",
       "  <tbody>\n",
       "    <tr>\n",
       "      <th>0</th>\n",
       "      <td>2</td>\n",
       "      <td>1</td>\n",
       "      <td>14016</td>\n",
       "      <td>4.09</td>\n",
       "      <td>1</td>\n",
       "      <td>9.547955</td>\n",
       "    </tr>\n",
       "    <tr>\n",
       "      <th>1</th>\n",
       "      <td>2</td>\n",
       "      <td>2</td>\n",
       "      <td>21504</td>\n",
       "      <td>3.59</td>\n",
       "      <td>1</td>\n",
       "      <td>9.975994</td>\n",
       "    </tr>\n",
       "    <tr>\n",
       "      <th>2</th>\n",
       "      <td>2</td>\n",
       "      <td>3</td>\n",
       "      <td>33024</td>\n",
       "      <td>3.14</td>\n",
       "      <td>1</td>\n",
       "      <td>10.404990</td>\n",
       "    </tr>\n",
       "    <tr>\n",
       "      <th>3</th>\n",
       "      <td>2</td>\n",
       "      <td>4</td>\n",
       "      <td>8896</td>\n",
       "      <td>3.64</td>\n",
       "      <td>1</td>\n",
       "      <td>9.093357</td>\n",
       "    </tr>\n",
       "    <tr>\n",
       "      <th>4</th>\n",
       "      <td>2</td>\n",
       "      <td>5</td>\n",
       "      <td>12736</td>\n",
       "      <td>4.09</td>\n",
       "      <td>0</td>\n",
       "      <td>9.452188</td>\n",
       "    </tr>\n",
       "  </tbody>\n",
       "</table>\n",
       "</div>"
      ],
      "text/plain": [
       "   Store  Week  Quant  Price  Deal  Log_Quant\n",
       "0      2     1  14016   4.09     1   9.547955\n",
       "1      2     2  21504   3.59     1   9.975994\n",
       "2      2     3  33024   3.14     1  10.404990\n",
       "3      2     4   8896   3.64     1   9.093357\n",
       "4      2     5  12736   4.09     0   9.452188"
      ]
     },
     "execution_count": 4,
     "metadata": {},
     "output_type": "execute_result"
    }
   ],
   "source": [
    "Tropicana_DF.head()"
   ]
  },
  {
   "cell_type": "markdown",
   "metadata": {},
   "source": [
    "### Data Exploration"
   ]
  },
  {
   "cell_type": "code",
   "execution_count": 5,
   "metadata": {},
   "outputs": [
    {
     "data": {
      "image/png": "[encoded data removed]",
      "text/plain": [
       "<Figure size 1440x720 with 1 Axes>"
      ]
     },
     "metadata": {
      "needs_background": "light"
     },
     "output_type": "display_data"
    }
   ],
   "source": [
    "f, ax = plt.subplots(figsize=(20, 10))\n",
    "Tropicana_DF.groupby('Week')['Quant'].mean().plot(ax = ax, linewidth = 3, color = \"green\")\n",
    "plt.xlabel(\"Week\", size = 20)\n",
    "ax.set_title('Distribution of Sales volume per week\\n', size = 20)\n",
    "plt.ylabel(\"Quantity Sold\", size = 20)\n",
    "plt.show()"
   ]
  },
  {
   "cell_type": "code",
   "execution_count": 6,
   "metadata": {},
   "outputs": [
    {
     "data": {
      "image/png": "[encoded data removed]",
      "text/plain": [
       "<Figure size 1440x720 with 1 Axes>"
      ]
     },
     "metadata": {
      "needs_background": "light"
     },
     "output_type": "display_data"
    }
   ],
   "source": [
    "f, ax = plt.subplots(figsize=(20, 10))\n",
    "\n",
    "Tropicana_DF.groupby('Store')['Quant'].mean().plot.bar(ax = ax, linewidth = 3)\n",
    "plt.xlabel(\"Store Code\", size = 20)\n",
    "ax.set_title('Retail Price of Tropicana Orange Juice per Store\\n', size = 20)\n",
    "plt.ylabel(\"Retail Price of Tropicana Juice box\", size = 20)\n",
    "plt.show()"
   ]
  },
  {
   "cell_type": "code",
   "execution_count": 7,
   "metadata": {},
   "outputs": [
    {
     "data": {
      "image/png": "[encoded data removed]",
      "text/plain": [
       "<Figure size 1440x720 with 1 Axes>"
      ]
     },
     "metadata": {
      "needs_background": "light"
     },
     "output_type": "display_data"
    },
    {
     "name": "stdout",
     "output_type": "stream",
     "text": [
      "Mean Price   = $ 3.602\n",
      "Median Price = $ 3.588\n"
     ]
    }
   ],
   "source": [
    "f, ax = plt.subplots(figsize=(20, 10))\n",
    "\n",
    "sb.set_context('poster')\n",
    "sb.set(style='white')\n",
    "\n",
    "WeeklyPrice_DF = pd.DataFrame(Tropicana_DF.groupby('Week')['Price'].mean()).reset_index()\n",
    "\n",
    "ax = sb.distplot(WeeklyPrice_DF['Price'], hist=True, kde=False, bins=10)\n",
    "sb.set_context('poster')\n",
    "sb.set(style='white')\n",
    "sb.despine(bottom=False)\n",
    "ax.set_title('Distribution of Tropicana Retail Price per week\\n', size = 20)\n",
    "ax.set_ylabel('Count', size = 17)\n",
    "ax.set_xlabel('Week', size = 17)\n",
    "ax.axvline(WeeklyPrice_DF['Price'].mean(), color = 'green', linewidth = 3)\n",
    "ax.axvline(WeeklyPrice_DF['Price'].median(), color = 'red', linewidth = 3)\n",
    "ax.legend(['Mean', 'Median'])\n",
    "plt.show()\n",
    "\n",
    "print(\"Mean Price   = $\", np.round(WeeklyPrice_DF[\"Price\"].mean(), 3))\n",
    "print(\"Median Price = $\", np.round(WeeklyPrice_DF[\"Price\"].median(), 3))"
   ]
  },
  {
   "cell_type": "markdown",
   "metadata": {},
   "source": [
    "### Getting the Data ready for Modeling"
   ]
  },
  {
   "cell_type": "code",
   "execution_count": 8,
   "metadata": {},
   "outputs": [
    {
     "data": {
      "text/plain": [
       "array([  2,  14,  32,  52,  62,  68,  71,  72,  93,  95, 111, 123, 124,\n",
       "       130, 137])"
      ]
     },
     "execution_count": 8,
     "metadata": {},
     "output_type": "execute_result"
    }
   ],
   "source": [
    "Tropicana_DF[\"Store\"].unique()"
   ]
  },
  {
   "cell_type": "code",
   "execution_count": 9,
   "metadata": {},
   "outputs": [
    {
     "data": {
      "text/plain": [
       "array([  1,   2,   3,   4,   5,   6,   7,   8,   9,  10,  11,  12,  13,\n",
       "        14,  15,  16,  17,  18,  19,  20,  21,  22,  23,  24,  25,  26,\n",
       "        27,  28,  29,  30,  31,  32,  33,  34,  35,  36,  37,  38,  39,\n",
       "        40,  41,  42,  43,  44,  45,  46,  47,  48,  49,  50,  51,  52,\n",
       "        53,  54,  55,  56,  57,  58,  59,  60,  61,  62,  63,  64,  65,\n",
       "        66,  67,  68,  69,  70,  71,  72,  73,  74,  75,  76,  77,  78,\n",
       "        79,  80,  81,  82,  83,  84,  85,  86,  87,  88,  89,  90,  91,\n",
       "        92,  93,  94,  95,  96,  97,  98,  99, 100, 101, 102, 103, 104])"
      ]
     },
     "execution_count": 9,
     "metadata": {},
     "output_type": "execute_result"
    }
   ],
   "source": [
    "Tropicana_DF[\"Week\"].unique()"
   ]
  },
  {
   "cell_type": "code",
   "execution_count": 10,
   "metadata": {},
   "outputs": [],
   "source": [
    "Tropicana_DF[\"Quarter_1\"] = Tropicana_DF[\"Week\"].apply(lambda x: 1 if x <= 13 else 0)\n",
    "Tropicana_DF[\"Quarter_2\"] = Tropicana_DF[\"Week\"].apply(lambda x: 1 if (x > 13 and x <= 26) else 0)\n",
    "Tropicana_DF[\"Quarter_3\"] = Tropicana_DF[\"Week\"].apply(lambda x: 1 if (x > 26 and x <= 39) else 0)\n",
    "Tropicana_DF[\"Quarter_4\"] = Tropicana_DF[\"Week\"].apply(lambda x: 1 if (x > 39 and x <= 52) else 0)\n",
    "Tropicana_DF[\"Quarter_5\"] = Tropicana_DF[\"Week\"].apply(lambda x: 1 if (x > 52 and x <= 65) else 0)\n",
    "Tropicana_DF[\"Quarter_6\"] = Tropicana_DF[\"Week\"].apply(lambda x: 1 if (x > 65 and x <= 78) else 0)\n",
    "Tropicana_DF[\"Quarter_7\"] = Tropicana_DF[\"Week\"].apply(lambda x: 1 if (x > 78 and x <= 91) else 0)\n",
    "Tropicana_DF[\"Quarter_8\"] = Tropicana_DF[\"Week\"].apply(lambda x: 1 if (x > 91 and x <= 104) else 0)"
   ]
  },
  {
   "cell_type": "code",
   "execution_count": 11,
   "metadata": {},
   "outputs": [],
   "source": [
    "Tropicana_DF.drop([\"Store\", \"Quant\", \"Week\"], axis = 1, inplace = True)"
   ]
  },
  {
   "cell_type": "code",
   "execution_count": 12,
   "metadata": {
    "scrolled": true
   },
   "outputs": [
    {
     "data": {
      "text/html": [
       "<div>\n",
       "<style scoped>\n",
       "    .dataframe tbody tr th:only-of-type {\n",
       "        vertical-align: middle;\n",
       "    }\n",
       "\n",
       "    .dataframe tbody tr th {\n",
       "        vertical-align: top;\n",
       "    }\n",
       "\n",
       "    .dataframe thead th {\n",
       "        text-align: right;\n",
       "    }\n",
       "</style>\n",
       "<table border=\"1\" class=\"dataframe\">\n",
       "  <thead>\n",
       "    <tr style=\"text-align: right;\">\n",
       "      <th></th>\n",
       "      <th>Price</th>\n",
       "      <th>Deal</th>\n",
       "      <th>Log_Quant</th>\n",
       "      <th>Quarter_1</th>\n",
       "      <th>Quarter_2</th>\n",
       "      <th>Quarter_3</th>\n",
       "      <th>Quarter_4</th>\n",
       "      <th>Quarter_5</th>\n",
       "      <th>Quarter_6</th>\n",
       "      <th>Quarter_7</th>\n",
       "      <th>Quarter_8</th>\n",
       "    </tr>\n",
       "  </thead>\n",
       "  <tbody>\n",
       "    <tr>\n",
       "      <th>0</th>\n",
       "      <td>4.09</td>\n",
       "      <td>1</td>\n",
       "      <td>9.547955</td>\n",
       "      <td>1</td>\n",
       "      <td>0</td>\n",
       "      <td>0</td>\n",
       "      <td>0</td>\n",
       "      <td>0</td>\n",
       "      <td>0</td>\n",
       "      <td>0</td>\n",
       "      <td>0</td>\n",
       "    </tr>\n",
       "    <tr>\n",
       "      <th>1</th>\n",
       "      <td>3.59</td>\n",
       "      <td>1</td>\n",
       "      <td>9.975994</td>\n",
       "      <td>1</td>\n",
       "      <td>0</td>\n",
       "      <td>0</td>\n",
       "      <td>0</td>\n",
       "      <td>0</td>\n",
       "      <td>0</td>\n",
       "      <td>0</td>\n",
       "      <td>0</td>\n",
       "    </tr>\n",
       "    <tr>\n",
       "      <th>2</th>\n",
       "      <td>3.14</td>\n",
       "      <td>1</td>\n",
       "      <td>10.404990</td>\n",
       "      <td>1</td>\n",
       "      <td>0</td>\n",
       "      <td>0</td>\n",
       "      <td>0</td>\n",
       "      <td>0</td>\n",
       "      <td>0</td>\n",
       "      <td>0</td>\n",
       "      <td>0</td>\n",
       "    </tr>\n",
       "    <tr>\n",
       "      <th>3</th>\n",
       "      <td>3.64</td>\n",
       "      <td>1</td>\n",
       "      <td>9.093357</td>\n",
       "      <td>1</td>\n",
       "      <td>0</td>\n",
       "      <td>0</td>\n",
       "      <td>0</td>\n",
       "      <td>0</td>\n",
       "      <td>0</td>\n",
       "      <td>0</td>\n",
       "      <td>0</td>\n",
       "    </tr>\n",
       "    <tr>\n",
       "      <th>4</th>\n",
       "      <td>4.09</td>\n",
       "      <td>0</td>\n",
       "      <td>9.452188</td>\n",
       "      <td>1</td>\n",
       "      <td>0</td>\n",
       "      <td>0</td>\n",
       "      <td>0</td>\n",
       "      <td>0</td>\n",
       "      <td>0</td>\n",
       "      <td>0</td>\n",
       "      <td>0</td>\n",
       "    </tr>\n",
       "  </tbody>\n",
       "</table>\n",
       "</div>"
      ],
      "text/plain": [
       "   Price  Deal  Log_Quant  Quarter_1  Quarter_2  Quarter_3  Quarter_4  \\\n",
       "0   4.09     1   9.547955          1          0          0          0   \n",
       "1   3.59     1   9.975994          1          0          0          0   \n",
       "2   3.14     1  10.404990          1          0          0          0   \n",
       "3   3.64     1   9.093357          1          0          0          0   \n",
       "4   4.09     0   9.452188          1          0          0          0   \n",
       "\n",
       "   Quarter_5  Quarter_6  Quarter_7  Quarter_8  \n",
       "0          0          0          0          0  \n",
       "1          0          0          0          0  \n",
       "2          0          0          0          0  \n",
       "3          0          0          0          0  \n",
       "4          0          0          0          0  "
      ]
     },
     "execution_count": 12,
     "metadata": {},
     "output_type": "execute_result"
    }
   ],
   "source": [
    "Tropicana_DF.head()"
   ]
  },
  {
   "cell_type": "markdown",
   "metadata": {},
   "source": [
    "### Data Modeling"
   ]
  },
  {
   "cell_type": "code",
   "execution_count": 13,
   "metadata": {},
   "outputs": [],
   "source": [
    "Model_Train, Model_Test = train_test_split(Tropicana_DF, test_size = 0.3, random_state = 42)\n",
    "\n",
    "X_Data = Tropicana_DF.drop([\"Log_Quant\"], axis = 1)\n",
    "Y_Data = Tropicana_DF[\"Log_Quant\"]\n",
    "\n",
    "X_const = sm.add_constant(X_Data)\n",
    "\n",
    "X_Train = (Model_Train.drop([\"Log_Quant\"], axis = 1))\n",
    "Y_Train = (Model_Train[[\"Log_Quant\"]])\n",
    "\n",
    "X_Test = Model_Test.drop([\"Log_Quant\"], axis = 1)\n",
    "Y_Test = Model_Test[[\"Log_Quant\"]]"
   ]
  },
  {
   "cell_type": "code",
   "execution_count": 14,
   "metadata": {},
   "outputs": [],
   "source": [
    "model_OLS = sm.OLS(Y_Data, X_const).fit()"
   ]
  },
  {
   "cell_type": "code",
   "execution_count": 15,
   "metadata": {},
   "outputs": [
    {
     "data": {
      "text/html": [
       "<table class=\"simpletable\">\n",
       "<caption>OLS Regression Results</caption>\n",
       "<tr>\n",
       "  <th>Dep. Variable:</th>        <td>Log_Quant</td>    <th>  R-squared:         </th> <td>   0.426</td> \n",
       "</tr>\n",
       "<tr>\n",
       "  <th>Model:</th>                   <td>OLS</td>       <th>  Adj. R-squared:    </th> <td>   0.423</td> \n",
       "</tr>\n",
       "<tr>\n",
       "  <th>Method:</th>             <td>Least Squares</td>  <th>  F-statistic:       </th> <td>   127.7</td> \n",
       "</tr>\n",
       "<tr>\n",
       "  <th>Date:</th>             <td>Mon, 10 Aug 2020</td> <th>  Prob (F-statistic):</th> <td>9.91e-180</td>\n",
       "</tr>\n",
       "<tr>\n",
       "  <th>Time:</th>                 <td>23:45:25</td>     <th>  Log-Likelihood:    </th> <td> -1537.6</td> \n",
       "</tr>\n",
       "<tr>\n",
       "  <th>No. Observations:</th>      <td>  1560</td>      <th>  AIC:               </th> <td>   3095.</td> \n",
       "</tr>\n",
       "<tr>\n",
       "  <th>Df Residuals:</th>          <td>  1550</td>      <th>  BIC:               </th> <td>   3149.</td> \n",
       "</tr>\n",
       "<tr>\n",
       "  <th>Df Model:</th>              <td>     9</td>      <th>                     </th>     <td> </td>    \n",
       "</tr>\n",
       "<tr>\n",
       "  <th>Covariance Type:</th>      <td>nonrobust</td>    <th>                     </th>     <td> </td>    \n",
       "</tr>\n",
       "</table>\n",
       "<table class=\"simpletable\">\n",
       "<tr>\n",
       "      <td></td>         <th>coef</th>     <th>std err</th>      <th>t</th>      <th>P>|t|</th>  <th>[0.025</th>    <th>0.975]</th>  \n",
       "</tr>\n",
       "<tr>\n",
       "  <th>const</th>     <td>   14.2723</td> <td>    0.187</td> <td>   76.375</td> <td> 0.000</td> <td>   13.906</td> <td>   14.639</td>\n",
       "</tr>\n",
       "<tr>\n",
       "  <th>Price</th>     <td>   -1.6255</td> <td>    0.055</td> <td>  -29.530</td> <td> 0.000</td> <td>   -1.734</td> <td>   -1.518</td>\n",
       "</tr>\n",
       "<tr>\n",
       "  <th>Deal</th>      <td>    0.0532</td> <td>    0.039</td> <td>    1.352</td> <td> 0.176</td> <td>   -0.024</td> <td>    0.130</td>\n",
       "</tr>\n",
       "<tr>\n",
       "  <th>Quarter_1</th> <td>    1.9087</td> <td>    0.053</td> <td>   35.919</td> <td> 0.000</td> <td>    1.805</td> <td>    2.013</td>\n",
       "</tr>\n",
       "<tr>\n",
       "  <th>Quarter_2</th> <td>    1.6494</td> <td>    0.051</td> <td>   32.329</td> <td> 0.000</td> <td>    1.549</td> <td>    1.749</td>\n",
       "</tr>\n",
       "<tr>\n",
       "  <th>Quarter_3</th> <td>    1.7716</td> <td>    0.049</td> <td>   36.307</td> <td> 0.000</td> <td>    1.676</td> <td>    1.867</td>\n",
       "</tr>\n",
       "<tr>\n",
       "  <th>Quarter_4</th> <td>    1.5915</td> <td>    0.048</td> <td>   33.101</td> <td> 0.000</td> <td>    1.497</td> <td>    1.686</td>\n",
       "</tr>\n",
       "<tr>\n",
       "  <th>Quarter_5</th> <td>    1.7015</td> <td>    0.044</td> <td>   38.475</td> <td> 0.000</td> <td>    1.615</td> <td>    1.788</td>\n",
       "</tr>\n",
       "<tr>\n",
       "  <th>Quarter_6</th> <td>    1.9924</td> <td>    0.054</td> <td>   36.982</td> <td> 0.000</td> <td>    1.887</td> <td>    2.098</td>\n",
       "</tr>\n",
       "<tr>\n",
       "  <th>Quarter_7</th> <td>    1.8631</td> <td>    0.053</td> <td>   35.487</td> <td> 0.000</td> <td>    1.760</td> <td>    1.966</td>\n",
       "</tr>\n",
       "<tr>\n",
       "  <th>Quarter_8</th> <td>    1.7940</td> <td>    0.049</td> <td>   36.622</td> <td> 0.000</td> <td>    1.698</td> <td>    1.890</td>\n",
       "</tr>\n",
       "</table>\n",
       "<table class=\"simpletable\">\n",
       "<tr>\n",
       "  <th>Omnibus:</th>       <td>102.292</td> <th>  Durbin-Watson:     </th> <td>   1.837</td>\n",
       "</tr>\n",
       "<tr>\n",
       "  <th>Prob(Omnibus):</th> <td> 0.000</td>  <th>  Jarque-Bera (JB):  </th> <td> 151.727</td>\n",
       "</tr>\n",
       "<tr>\n",
       "  <th>Skew:</th>          <td> 0.535</td>  <th>  Prob(JB):          </th> <td>1.13e-33</td>\n",
       "</tr>\n",
       "<tr>\n",
       "  <th>Kurtosis:</th>      <td> 4.090</td>  <th>  Cond. No.          </th> <td>1.61e+16</td>\n",
       "</tr>\n",
       "</table><br/><br/>Warnings:<br/>[1] Standard Errors assume that the covariance matrix of the errors is correctly specified.<br/>[2] The smallest eigenvalue is 8.85e-29. This might indicate that there are<br/>strong multicollinearity problems or that the design matrix is singular."
      ],
      "text/plain": [
       "<class 'statsmodels.iolib.summary.Summary'>\n",
       "\"\"\"\n",
       "                            OLS Regression Results                            \n",
       "==============================================================================\n",
       "Dep. Variable:              Log_Quant   R-squared:                       0.426\n",
       "Model:                            OLS   Adj. R-squared:                  0.423\n",
       "Method:                 Least Squares   F-statistic:                     127.7\n",
       "Date:                Mon, 10 Aug 2020   Prob (F-statistic):          9.91e-180\n",
       "Time:                        23:45:25   Log-Likelihood:                -1537.6\n",
       "No. Observations:                1560   AIC:                             3095.\n",
       "Df Residuals:                    1550   BIC:                             3149.\n",
       "Df Model:                           9                                         \n",
       "Covariance Type:            nonrobust                                         \n",
       "==============================================================================\n",
       "                 coef    std err          t      P>|t|      [0.025      0.975]\n",
       "------------------------------------------------------------------------------\n",
       "const         14.2723      0.187     76.375      0.000      13.906      14.639\n",
       "Price         -1.6255      0.055    -29.530      0.000      -1.734      -1.518\n",
       "Deal           0.0532      0.039      1.352      0.176      -0.024       0.130\n",
       "Quarter_1      1.9087      0.053     35.919      0.000       1.805       2.013\n",
       "Quarter_2      1.6494      0.051     32.329      0.000       1.549       1.749\n",
       "Quarter_3      1.7716      0.049     36.307      0.000       1.676       1.867\n",
       "Quarter_4      1.5915      0.048     33.101      0.000       1.497       1.686\n",
       "Quarter_5      1.7015      0.044     38.475      0.000       1.615       1.788\n",
       "Quarter_6      1.9924      0.054     36.982      0.000       1.887       2.098\n",
       "Quarter_7      1.8631      0.053     35.487      0.000       1.760       1.966\n",
       "Quarter_8      1.7940      0.049     36.622      0.000       1.698       1.890\n",
       "==============================================================================\n",
       "Omnibus:                      102.292   Durbin-Watson:                   1.837\n",
       "Prob(Omnibus):                  0.000   Jarque-Bera (JB):              151.727\n",
       "Skew:                           0.535   Prob(JB):                     1.13e-33\n",
       "Kurtosis:                       4.090   Cond. No.                     1.61e+16\n",
       "==============================================================================\n",
       "\n",
       "Warnings:\n",
       "[1] Standard Errors assume that the covariance matrix of the errors is correctly specified.\n",
       "[2] The smallest eigenvalue is 8.85e-29. This might indicate that there are\n",
       "strong multicollinearity problems or that the design matrix is singular.\n",
       "\"\"\""
      ]
     },
     "execution_count": 15,
     "metadata": {},
     "output_type": "execute_result"
    }
   ],
   "source": [
    "model_OLS.summary()"
   ]
  },
  {
   "cell_type": "code",
   "execution_count": 16,
   "metadata": {},
   "outputs": [],
   "source": [
    "LR = LinearRegression()\n",
    "model = LR.fit(X_Train, Y_Train.values.reshape(-1,1))"
   ]
  },
  {
   "cell_type": "code",
   "execution_count": 17,
   "metadata": {},
   "outputs": [
    {
     "name": "stdout",
     "output_type": "stream",
     "text": [
      "R-Square: 42.78\n"
     ]
    }
   ],
   "source": [
    "r_square = model.score(X_Train, Y_Train)\n",
    "print('R-Square:', np.round(r_square*100, 3))"
   ]
  },
  {
   "cell_type": "markdown",
   "metadata": {},
   "source": [
    "### Data Prediction"
   ]
  },
  {
   "cell_type": "code",
   "execution_count": 18,
   "metadata": {},
   "outputs": [],
   "source": [
    "y_pred = model.predict(X_Test)"
   ]
  },
  {
   "cell_type": "code",
   "execution_count": 19,
   "metadata": {},
   "outputs": [],
   "source": [
    "Predicted_Y = pd.DataFrame(y_pred)\n",
    "Predicted_Y = Predicted_Y.rename(columns={0: \"Predicted_log(Quant)\"})"
   ]
  },
  {
   "cell_type": "code",
   "execution_count": 20,
   "metadata": {},
   "outputs": [],
   "source": [
    "Predicted_Y[\"Predicted_Quantity\"] = np.exp(Predicted_Y[\"Predicted_log(Quant)\"]).astype(int)"
   ]
  },
  {
   "cell_type": "code",
   "execution_count": 21,
   "metadata": {},
   "outputs": [
    {
     "data": {
      "text/html": [
       "<div>\n",
       "<style scoped>\n",
       "    .dataframe tbody tr th:only-of-type {\n",
       "        vertical-align: middle;\n",
       "    }\n",
       "\n",
       "    .dataframe tbody tr th {\n",
       "        vertical-align: top;\n",
       "    }\n",
       "\n",
       "    .dataframe thead th {\n",
       "        text-align: right;\n",
       "    }\n",
       "</style>\n",
       "<table border=\"1\" class=\"dataframe\">\n",
       "  <thead>\n",
       "    <tr style=\"text-align: right;\">\n",
       "      <th></th>\n",
       "      <th>Predicted_Quantity</th>\n",
       "    </tr>\n",
       "  </thead>\n",
       "  <tbody>\n",
       "    <tr>\n",
       "      <th>0</th>\n",
       "      <td>54569</td>\n",
       "    </tr>\n",
       "    <tr>\n",
       "      <th>1</th>\n",
       "      <td>20976</td>\n",
       "    </tr>\n",
       "    <tr>\n",
       "      <th>2</th>\n",
       "      <td>20732</td>\n",
       "    </tr>\n",
       "    <tr>\n",
       "      <th>3</th>\n",
       "      <td>24428</td>\n",
       "    </tr>\n",
       "    <tr>\n",
       "      <th>4</th>\n",
       "      <td>32808</td>\n",
       "    </tr>\n",
       "  </tbody>\n",
       "</table>\n",
       "</div>"
      ],
      "text/plain": [
       "   Predicted_Quantity\n",
       "0               54569\n",
       "1               20976\n",
       "2               20732\n",
       "3               24428\n",
       "4               32808"
      ]
     },
     "execution_count": 21,
     "metadata": {},
     "output_type": "execute_result"
    }
   ],
   "source": [
    "Predicted_Y.drop(\"Predicted_log(Quant)\", axis = 1, inplace = True)\n",
    "Predicted_Y.head()"
   ]
  },
  {
   "cell_type": "code",
   "execution_count": 22,
   "metadata": {},
   "outputs": [
    {
     "data": {
      "text/html": [
       "<div>\n",
       "<style scoped>\n",
       "    .dataframe tbody tr th:only-of-type {\n",
       "        vertical-align: middle;\n",
       "    }\n",
       "\n",
       "    .dataframe tbody tr th {\n",
       "        vertical-align: top;\n",
       "    }\n",
       "\n",
       "    .dataframe thead th {\n",
       "        text-align: right;\n",
       "    }\n",
       "</style>\n",
       "<table border=\"1\" class=\"dataframe\">\n",
       "  <thead>\n",
       "    <tr style=\"text-align: right;\">\n",
       "      <th></th>\n",
       "      <th>Price</th>\n",
       "      <th>Deal</th>\n",
       "      <th>Quarter_1</th>\n",
       "      <th>Quarter_2</th>\n",
       "      <th>Quarter_3</th>\n",
       "      <th>Quarter_4</th>\n",
       "      <th>Quarter_5</th>\n",
       "      <th>Quarter_6</th>\n",
       "      <th>Quarter_7</th>\n",
       "      <th>Quarter_8</th>\n",
       "    </tr>\n",
       "  </thead>\n",
       "  <tbody>\n",
       "    <tr>\n",
       "      <th>0</th>\n",
       "      <td>3.22</td>\n",
       "      <td>1</td>\n",
       "      <td>1</td>\n",
       "      <td>0</td>\n",
       "      <td>0</td>\n",
       "      <td>0</td>\n",
       "      <td>0</td>\n",
       "      <td>0</td>\n",
       "      <td>0</td>\n",
       "      <td>0</td>\n",
       "    </tr>\n",
       "  </tbody>\n",
       "</table>\n",
       "</div>"
      ],
      "text/plain": [
       "   Price  Deal  Quarter_1  Quarter_2  Quarter_3  Quarter_4  Quarter_5  \\\n",
       "0   3.22     1          1          0          0          0          0   \n",
       "\n",
       "   Quarter_6  Quarter_7  Quarter_8  \n",
       "0          0          0          0  "
      ]
     },
     "execution_count": 22,
     "metadata": {},
     "output_type": "execute_result"
    }
   ],
   "source": [
    "cols = [\"Price\", \"Deal\", \"Quarter_1\", \"Quarter_2\", \"Quarter_3\", \"Quarter_4\",\n",
    "          \"Quarter_5\", \"Quarter_6\", \"Quarter_7\", \"Quarter_8\"]\n",
    "\n",
    "X_manual_test_ = pd.DataFrame([[3.22, 1, 1, 0, 0, 0, 0, 0, 0, 0]], columns = cols)\n",
    "X_manual_test_"
   ]
  },
  {
   "cell_type": "code",
   "execution_count": 23,
   "metadata": {},
   "outputs": [],
   "source": [
    "y_pred = model.predict(X_manual_test_)"
   ]
  },
  {
   "cell_type": "code",
   "execution_count": 24,
   "metadata": {},
   "outputs": [],
   "source": [
    "Predicted_Quantity = pd.DataFrame(np.exp(y_pred), columns = [\"Predicted_Quantity\"])"
   ]
  },
  {
   "cell_type": "code",
   "execution_count": 25,
   "metadata": {},
   "outputs": [
    {
     "data": {
      "text/html": [
       "<div>\n",
       "<style scoped>\n",
       "    .dataframe tbody tr th:only-of-type {\n",
       "        vertical-align: middle;\n",
       "    }\n",
       "\n",
       "    .dataframe tbody tr th {\n",
       "        vertical-align: top;\n",
       "    }\n",
       "\n",
       "    .dataframe thead th {\n",
       "        text-align: right;\n",
       "    }\n",
       "</style>\n",
       "<table border=\"1\" class=\"dataframe\">\n",
       "  <thead>\n",
       "    <tr style=\"text-align: right;\">\n",
       "      <th></th>\n",
       "      <th>Predicted_Quantity</th>\n",
       "    </tr>\n",
       "  </thead>\n",
       "  <tbody>\n",
       "    <tr>\n",
       "      <th>0</th>\n",
       "      <td>60639.108125</td>\n",
       "    </tr>\n",
       "  </tbody>\n",
       "</table>\n",
       "</div>"
      ],
      "text/plain": [
       "   Predicted_Quantity\n",
       "0        60639.108125"
      ]
     },
     "execution_count": 25,
     "metadata": {},
     "output_type": "execute_result"
    }
   ],
   "source": [
    "Predicted_Quantity"
   ]
  }
 ],
 "metadata": {
  "kernelspec": {
   "display_name": "Python 3.7 (tensorflow)",
   "language": "python",
   "name": "tensorflow"
  },
  "language_info": {
   "codemirror_mode": {
    "name": "ipython",
    "version": 3
   },
   "file_extension": ".py",
   "mimetype": "text/x-python",
   "name": "python",
   "nbconvert_exporter": "python",
   "pygments_lexer": "ipython3",
   "version": "3.7.4"
  }
 },
 "nbformat": 4,
 "nbformat_minor": 4
}
